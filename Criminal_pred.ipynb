{
 "cells": [
  {
   "cell_type": "code",
   "execution_count": 1,
   "metadata": {},
   "outputs": [],
   "source": [
    "import pandas as pd\n",
    "import numpy as np\n",
    "import matplotlib.pyplot as plt\n",
    "\n",
    "%matplotlib inline"
   ]
  },
  {
   "cell_type": "code",
   "execution_count": 2,
   "metadata": {},
   "outputs": [
    {
     "data": {
      "text/plain": [
       "(45718, 72)"
      ]
     },
     "execution_count": 2,
     "metadata": {},
     "output_type": "execute_result"
    }
   ],
   "source": [
    "train_df = pd.read_csv(r\"./Criminal/criminal_train.csv\", na_values=\"-1\")\n",
    "train_df.shape"
   ]
  },
  {
   "cell_type": "code",
   "execution_count": 3,
   "metadata": {},
   "outputs": [
    {
     "data": {
      "text/html": [
       "<div>\n",
       "<style>\n",
       "    .dataframe thead tr:only-child th {\n",
       "        text-align: right;\n",
       "    }\n",
       "\n",
       "    .dataframe thead th {\n",
       "        text-align: left;\n",
       "    }\n",
       "\n",
       "    .dataframe tbody tr th {\n",
       "        vertical-align: top;\n",
       "    }\n",
       "</style>\n",
       "<table border=\"1\" class=\"dataframe\">\n",
       "  <thead>\n",
       "    <tr style=\"text-align: right;\">\n",
       "      <th></th>\n",
       "      <th>PERID</th>\n",
       "      <th>IFATHER</th>\n",
       "      <th>NRCH17_2</th>\n",
       "      <th>IRHHSIZ2</th>\n",
       "      <th>IIHHSIZ2</th>\n",
       "      <th>IRKI17_2</th>\n",
       "      <th>IIKI17_2</th>\n",
       "      <th>IRHH65_2</th>\n",
       "      <th>IIHH65_2</th>\n",
       "      <th>PRXRETRY</th>\n",
       "      <th>...</th>\n",
       "      <th>TOOLONG</th>\n",
       "      <th>TROUBUND</th>\n",
       "      <th>PDEN10</th>\n",
       "      <th>COUTYP2</th>\n",
       "      <th>MAIIN102</th>\n",
       "      <th>AIIND102</th>\n",
       "      <th>ANALWT_C</th>\n",
       "      <th>VESTR</th>\n",
       "      <th>VEREP</th>\n",
       "      <th>Criminal</th>\n",
       "    </tr>\n",
       "  </thead>\n",
       "  <tbody>\n",
       "    <tr>\n",
       "      <th>0</th>\n",
       "      <td>25095143</td>\n",
       "      <td>4.0</td>\n",
       "      <td>2.0</td>\n",
       "      <td>4.0</td>\n",
       "      <td>1.0</td>\n",
       "      <td>3.0</td>\n",
       "      <td>1.0</td>\n",
       "      <td>1.0</td>\n",
       "      <td>1.0</td>\n",
       "      <td>99.0</td>\n",
       "      <td>...</td>\n",
       "      <td>1.0</td>\n",
       "      <td>2.0</td>\n",
       "      <td>1.0</td>\n",
       "      <td>1.0</td>\n",
       "      <td>2.0</td>\n",
       "      <td>2.0</td>\n",
       "      <td>3884.805998</td>\n",
       "      <td>40026.0</td>\n",
       "      <td>1.0</td>\n",
       "      <td>0</td>\n",
       "    </tr>\n",
       "    <tr>\n",
       "      <th>1</th>\n",
       "      <td>13005143</td>\n",
       "      <td>4.0</td>\n",
       "      <td>1.0</td>\n",
       "      <td>3.0</td>\n",
       "      <td>1.0</td>\n",
       "      <td>2.0</td>\n",
       "      <td>1.0</td>\n",
       "      <td>1.0</td>\n",
       "      <td>1.0</td>\n",
       "      <td>99.0</td>\n",
       "      <td>...</td>\n",
       "      <td>2.0</td>\n",
       "      <td>2.0</td>\n",
       "      <td>2.0</td>\n",
       "      <td>3.0</td>\n",
       "      <td>2.0</td>\n",
       "      <td>2.0</td>\n",
       "      <td>1627.108106</td>\n",
       "      <td>40015.0</td>\n",
       "      <td>2.0</td>\n",
       "      <td>1</td>\n",
       "    </tr>\n",
       "  </tbody>\n",
       "</table>\n",
       "<p>2 rows × 72 columns</p>\n",
       "</div>"
      ],
      "text/plain": [
       "      PERID  IFATHER  NRCH17_2  IRHHSIZ2  IIHHSIZ2  IRKI17_2  IIKI17_2  \\\n",
       "0  25095143      4.0       2.0       4.0       1.0       3.0       1.0   \n",
       "1  13005143      4.0       1.0       3.0       1.0       2.0       1.0   \n",
       "\n",
       "   IRHH65_2  IIHH65_2  PRXRETRY    ...     TOOLONG  TROUBUND  PDEN10  COUTYP2  \\\n",
       "0       1.0       1.0      99.0    ...         1.0       2.0     1.0      1.0   \n",
       "1       1.0       1.0      99.0    ...         2.0       2.0     2.0      3.0   \n",
       "\n",
       "   MAIIN102  AIIND102     ANALWT_C    VESTR  VEREP  Criminal  \n",
       "0       2.0       2.0  3884.805998  40026.0    1.0         0  \n",
       "1       2.0       2.0  1627.108106  40015.0    2.0         1  \n",
       "\n",
       "[2 rows x 72 columns]"
      ]
     },
     "execution_count": 3,
     "metadata": {},
     "output_type": "execute_result"
    }
   ],
   "source": [
    "train_df.head(2)"
   ]
  },
  {
   "cell_type": "code",
   "execution_count": 4,
   "metadata": {
    "scrolled": true
   },
   "outputs": [
    {
     "data": {
      "text/plain": [
       "PERID          0\n",
       "IFATHER        2\n",
       "NRCH17_2      84\n",
       "IRHHSIZ2       2\n",
       "IIHHSIZ2       2\n",
       "IRKI17_2       2\n",
       "IIKI17_2       2\n",
       "IRHH65_2       2\n",
       "IIHH65_2       2\n",
       "PRXRETRY       2\n",
       "PRXYDATA       2\n",
       "MEDICARE       2\n",
       "CAIDCHIP       2\n",
       "CHAMPUS        2\n",
       "PRVHLTIN       2\n",
       "GRPHLTIN       2\n",
       "HLTINNOS       2\n",
       "HLCNOTYR       2\n",
       "HLCNOTMO       2\n",
       "HLCLAST        2\n",
       "HLLOSRSN       2\n",
       "HLNVCOST       2\n",
       "HLNVOFFR       2\n",
       "HLNVREF        2\n",
       "HLNVNEED       2\n",
       "HLNVSOR        2\n",
       "IRMCDCHP       2\n",
       "IIMCDCHP       2\n",
       "IRMEDICR       2\n",
       "IIMEDICR       2\n",
       "            ... \n",
       "CELLNOTCL      2\n",
       "CELLWRKNG      2\n",
       "IRFAMSOC       2\n",
       "IIFAMSOC       2\n",
       "IRFAMSSI       2\n",
       "IIFAMSSI       2\n",
       "IRFSTAMP       2\n",
       "IIFSTAMP       2\n",
       "IRFAMPMT       2\n",
       "IIFAMPMT       2\n",
       "IRFAMSVC       2\n",
       "IIFAMSVC       2\n",
       "IRWELMOS       2\n",
       "IIWELMOS       2\n",
       "IRPINC3        2\n",
       "IRFAMIN3       2\n",
       "IIPINC3        2\n",
       "IIFAMIN3       2\n",
       "GOVTPROG       2\n",
       "POVERTY3     343\n",
       "TOOLONG        2\n",
       "TROUBUND       2\n",
       "PDEN10         2\n",
       "COUTYP2        2\n",
       "MAIIN102       2\n",
       "AIIND102       2\n",
       "ANALWT_C       2\n",
       "VESTR          2\n",
       "VEREP          2\n",
       "Criminal       0\n",
       "Length: 72, dtype: int64"
      ]
     },
     "execution_count": 4,
     "metadata": {},
     "output_type": "execute_result"
    }
   ],
   "source": [
    "train_df.isnull().sum()"
   ]
  },
  {
   "cell_type": "code",
   "execution_count": 5,
   "metadata": {},
   "outputs": [],
   "source": [
    "train_df = train_df[~(train_df[\"IFATHER\"].isnull())]"
   ]
  },
  {
   "cell_type": "code",
   "execution_count": 6,
   "metadata": {},
   "outputs": [
    {
     "data": {
      "text/plain": [
       "PERID          0\n",
       "IFATHER        0\n",
       "NRCH17_2      82\n",
       "IRHHSIZ2       0\n",
       "IIHHSIZ2       0\n",
       "IRKI17_2       0\n",
       "IIKI17_2       0\n",
       "IRHH65_2       0\n",
       "IIHH65_2       0\n",
       "PRXRETRY       0\n",
       "PRXYDATA       0\n",
       "MEDICARE       0\n",
       "CAIDCHIP       0\n",
       "CHAMPUS        0\n",
       "PRVHLTIN       0\n",
       "GRPHLTIN       0\n",
       "HLTINNOS       0\n",
       "HLCNOTYR       0\n",
       "HLCNOTMO       0\n",
       "HLCLAST        0\n",
       "HLLOSRSN       0\n",
       "HLNVCOST       0\n",
       "HLNVOFFR       0\n",
       "HLNVREF        0\n",
       "HLNVNEED       0\n",
       "HLNVSOR        0\n",
       "IRMCDCHP       0\n",
       "IIMCDCHP       0\n",
       "IRMEDICR       0\n",
       "IIMEDICR       0\n",
       "            ... \n",
       "CELLNOTCL      0\n",
       "CELLWRKNG      0\n",
       "IRFAMSOC       0\n",
       "IIFAMSOC       0\n",
       "IRFAMSSI       0\n",
       "IIFAMSSI       0\n",
       "IRFSTAMP       0\n",
       "IIFSTAMP       0\n",
       "IRFAMPMT       0\n",
       "IIFAMPMT       0\n",
       "IRFAMSVC       0\n",
       "IIFAMSVC       0\n",
       "IRWELMOS       0\n",
       "IIWELMOS       0\n",
       "IRPINC3        0\n",
       "IRFAMIN3       0\n",
       "IIPINC3        0\n",
       "IIFAMIN3       0\n",
       "GOVTPROG       0\n",
       "POVERTY3     341\n",
       "TOOLONG        0\n",
       "TROUBUND       0\n",
       "PDEN10         0\n",
       "COUTYP2        0\n",
       "MAIIN102       0\n",
       "AIIND102       0\n",
       "ANALWT_C       0\n",
       "VESTR          0\n",
       "VEREP          0\n",
       "Criminal       0\n",
       "Length: 72, dtype: int64"
      ]
     },
     "execution_count": 6,
     "metadata": {},
     "output_type": "execute_result"
    }
   ],
   "source": [
    "train_df.isnull().sum()"
   ]
  }
 ],
 "metadata": {
  "kernelspec": {
   "display_name": "Python 3",
   "language": "python",
   "name": "python3"
  },
  "language_info": {
   "codemirror_mode": {
    "name": "ipython",
    "version": 3
   },
   "file_extension": ".py",
   "mimetype": "text/x-python",
   "name": "python",
   "nbconvert_exporter": "python",
   "pygments_lexer": "ipython3",
   "version": "3.6.3"
  }
 },
 "nbformat": 4,
 "nbformat_minor": 2
}
